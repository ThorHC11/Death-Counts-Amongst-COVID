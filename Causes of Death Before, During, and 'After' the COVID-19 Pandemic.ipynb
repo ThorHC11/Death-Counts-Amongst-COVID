{
 "cells": [
  {
   "cell_type": "markdown",
   "id": "65cb436a",
   "metadata": {},
   "source": [
    "# The Effect of the COVID-19 Pandemic on Death"
   ]
  },
  {
   "cell_type": "markdown",
   "id": "00537d4c",
   "metadata": {},
   "source": [
    "As COVID-19 continues to cause significant numbers of deaths across the globe, one of the greatest talking points during the last few years has become the effect of the pandemic on our mental health, as well as the fluctuations of death numbers of various causes. The US Department of Health & Human Services keeps data for death counts for several different causes, separated by month, stretching from 2014 to 2023. In this project I will be analyzing the data and answering a few questions that are of special interest to me."
   ]
  },
  {
   "cell_type": "code",
   "execution_count": 2,
   "id": "dfce999d",
   "metadata": {},
   "outputs": [],
   "source": [
    "from matplotlib import pyplot as plt\n",
    "from scipy.stats import chi2_contingency\n",
    "\n",
    "import pandas as pd\n",
    "import numpy as np\n",
    "import seaborn as sns"
   ]
  },
  {
   "cell_type": "markdown",
   "id": "a5cc7543",
   "metadata": {},
   "source": [
    "## Importing our Data"
   ]
  },
  {
   "cell_type": "markdown",
   "id": "abf606fc",
   "metadata": {},
   "source": [
    "The data are split into two sets - one from 2014-2019, and another from 2020-2023."
   ]
  },
  {
   "cell_type": "code",
   "execution_count": 3,
   "id": "7b80706c",
   "metadata": {},
   "outputs": [],
   "source": [
    "death_14_19 = pd.read_csv('Monthly_Counts_of_Deaths_by_Select_Causes__2014-2019.csv', encoding='utf-8')\n",
    "death_20_23 = pd.read_csv('Monthly_Provisional_Counts_of_Deaths_by_Select_Causes__2020-2023.csv', encoding='utf-8')"
   ]
  },
  {
   "cell_type": "markdown",
   "id": "46a5490a",
   "metadata": {},
   "source": [
    "The first data set I will leave as is, but because I want to measure data both during the height of lockdowns in 2020 and 2021 separate from data from after that (2022 and 2023), I will be splitting the second set into two."
   ]
  },
  {
   "cell_type": "code",
   "execution_count": 4,
   "id": "6a48129f",
   "metadata": {},
   "outputs": [],
   "source": [
    "death_20_21 = death_20_23[death_20_23['Year'] <= 2021]\n",
    "death_22_23 = death_20_23[death_20_23['Year'] > 2021]"
   ]
  },
  {
   "cell_type": "markdown",
   "id": "b8a3cd74",
   "metadata": {},
   "source": [
    "So now we have three tables - one from 2014-2019, one from 2020-2021, and the third from 2022-2023."
   ]
  }
 ],
 "metadata": {
  "kernelspec": {
   "display_name": "Python 3 (ipykernel)",
   "language": "python",
   "name": "python3"
  },
  "language_info": {
   "codemirror_mode": {
    "name": "ipython",
    "version": 3
   },
   "file_extension": ".py",
   "mimetype": "text/x-python",
   "name": "python",
   "nbconvert_exporter": "python",
   "pygments_lexer": "ipython3",
   "version": "3.10.9"
  }
 },
 "nbformat": 4,
 "nbformat_minor": 5
}
