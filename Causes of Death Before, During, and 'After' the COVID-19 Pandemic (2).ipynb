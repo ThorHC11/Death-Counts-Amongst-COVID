{
 "cells": [
  {
   "cell_type": "markdown",
   "id": "65cb436a",
   "metadata": {},
   "source": [
    "# The Effect of the COVID-19 Pandemic on Death"
   ]
  },
  {
   "cell_type": "markdown",
   "id": "00537d4c",
   "metadata": {},
   "source": [
    "As COVID-19 continues to cause significant numbers of deaths across the globe, one of the greatest talking points during the last few years has become the effect of the pandemic on our mental health, as well as the fluctuations of death numbers of various causes. The US Department of Health & Human Services keeps data for death counts for several different causes, separated by month, stretching from 2014 to 2023. In this project I will be analyzing the data and answering a few questions that are of special interest to me.\n",
    "\n",
    "Disclaimer: The data do not discriminate by any demographic. As such, I will not be able to answer questions that are demographic-based, such as \"Do younger people commit suicide more often?\""
   ]
  },
  {
   "cell_type": "code",
   "execution_count": 27,
   "id": "dfce999d",
   "metadata": {},
   "outputs": [],
   "source": [
    "from matplotlib import pyplot as plt\n",
    "from scipy.stats import chi2_contingency\n",
    "\n",
    "import pandas as pd\n",
    "import numpy as np\n",
    "import seaborn as sns\n",
    "import itertools"
   ]
  },
  {
   "cell_type": "markdown",
   "id": "a5cc7543",
   "metadata": {},
   "source": [
    "## Importing our Data"
   ]
  },
  {
   "cell_type": "markdown",
   "id": "abf606fc",
   "metadata": {},
   "source": [
    "The data are split into two sets - one from 2014-2019, and another from 2020-2023."
   ]
  },
  {
   "cell_type": "code",
   "execution_count": 4,
   "id": "7b80706c",
   "metadata": {},
   "outputs": [],
   "source": [
    "death_14_19 = pd.read_csv('Monthly_Counts_of_Deaths_by_Select_Causes__2014-2019.csv', encoding='utf-8')\n",
    "death_20_23 = pd.read_csv('Monthly_Provisional_Counts_of_Deaths_by_Select_Causes__2020-2023.csv', encoding='utf-8')"
   ]
  },
  {
   "cell_type": "markdown",
   "id": "46a5490a",
   "metadata": {},
   "source": [
    "The first data set I will leave as is, but because I want to measure data both during the height of lockdowns in 2020 and 2021 separate from data from after that (2022 and 2023), I will be splitting the second set into two."
   ]
  },
  {
   "cell_type": "code",
   "execution_count": 5,
   "id": "6a48129f",
   "metadata": {},
   "outputs": [],
   "source": [
    "death_20_21 = death_20_23[death_20_23['Year'] <= 2021]\n",
    "death_22_23 = death_20_23[death_20_23['Year'] > 2021]"
   ]
  },
  {
   "cell_type": "markdown",
   "id": "b8a3cd74",
   "metadata": {},
   "source": [
    "So now we have three tables - one from 2014-2019, one from 2020-2021, and the third from 2022-2023. I will show the head of one of the tables just to give you an example of how the table is organized."
   ]
  },
  {
   "cell_type": "code",
   "execution_count": 6,
   "id": "7b6395bb",
   "metadata": {},
   "outputs": [
    {
     "data": {
      "text/html": [
       "<div>\n",
       "<style scoped>\n",
       "    .dataframe tbody tr th:only-of-type {\n",
       "        vertical-align: middle;\n",
       "    }\n",
       "\n",
       "    .dataframe tbody tr th {\n",
       "        vertical-align: top;\n",
       "    }\n",
       "\n",
       "    .dataframe thead th {\n",
       "        text-align: right;\n",
       "    }\n",
       "</style>\n",
       "<table border=\"1\" class=\"dataframe\">\n",
       "  <thead>\n",
       "    <tr style=\"text-align: right;\">\n",
       "      <th></th>\n",
       "      <th>Jurisdiction of Occurrence</th>\n",
       "      <th>Year</th>\n",
       "      <th>Month</th>\n",
       "      <th>All Cause</th>\n",
       "      <th>Natural Cause</th>\n",
       "      <th>Septicemia</th>\n",
       "      <th>Malignant Neoplasms</th>\n",
       "      <th>Diabetes Mellitus</th>\n",
       "      <th>Alzheimer Disease</th>\n",
       "      <th>Influenza and Pneumonia</th>\n",
       "      <th>...</th>\n",
       "      <th>Other Diseases of Respiratory System</th>\n",
       "      <th>Nephritis, Nephrotic Syndrome, and Nephrosis</th>\n",
       "      <th>Symptoms, Signs, and Abnormal Clinical and Laboratory Findings, Not Elsewhere Classified</th>\n",
       "      <th>Diseases of Heart</th>\n",
       "      <th>Cerebrovascular Diseases</th>\n",
       "      <th>Accidents (Unintentional Injuries)</th>\n",
       "      <th>Motor Vehicle Accidents</th>\n",
       "      <th>Intentional Self-Harm (Suicide)</th>\n",
       "      <th>Assault (Homicide)</th>\n",
       "      <th>Drug Overdose</th>\n",
       "    </tr>\n",
       "  </thead>\n",
       "  <tbody>\n",
       "    <tr>\n",
       "      <th>0</th>\n",
       "      <td>United States</td>\n",
       "      <td>2014</td>\n",
       "      <td>1</td>\n",
       "      <td>243298</td>\n",
       "      <td>226621</td>\n",
       "      <td>3944</td>\n",
       "      <td>51101</td>\n",
       "      <td>7344</td>\n",
       "      <td>8305</td>\n",
       "      <td>7929</td>\n",
       "      <td>...</td>\n",
       "      <td>3466</td>\n",
       "      <td>4600</td>\n",
       "      <td>2815</td>\n",
       "      <td>58229</td>\n",
       "      <td>12074</td>\n",
       "      <td>11461</td>\n",
       "      <td>2572</td>\n",
       "      <td>3320</td>\n",
       "      <td>1213</td>\n",
       "      <td>4026</td>\n",
       "    </tr>\n",
       "    <tr>\n",
       "      <th>1</th>\n",
       "      <td>United States</td>\n",
       "      <td>2015</td>\n",
       "      <td>1</td>\n",
       "      <td>265355</td>\n",
       "      <td>247269</td>\n",
       "      <td>4194</td>\n",
       "      <td>52346</td>\n",
       "      <td>8053</td>\n",
       "      <td>11638</td>\n",
       "      <td>10005</td>\n",
       "      <td>...</td>\n",
       "      <td>3797</td>\n",
       "      <td>4979</td>\n",
       "      <td>3005</td>\n",
       "      <td>63190</td>\n",
       "      <td>13576</td>\n",
       "      <td>12311</td>\n",
       "      <td>2754</td>\n",
       "      <td>3618</td>\n",
       "      <td>1437</td>\n",
       "      <td>4354</td>\n",
       "    </tr>\n",
       "    <tr>\n",
       "      <th>2</th>\n",
       "      <td>United States</td>\n",
       "      <td>2016</td>\n",
       "      <td>1</td>\n",
       "      <td>245823</td>\n",
       "      <td>227341</td>\n",
       "      <td>3846</td>\n",
       "      <td>51863</td>\n",
       "      <td>7392</td>\n",
       "      <td>10612</td>\n",
       "      <td>5295</td>\n",
       "      <td>...</td>\n",
       "      <td>3705</td>\n",
       "      <td>4645</td>\n",
       "      <td>2755</td>\n",
       "      <td>58049</td>\n",
       "      <td>12968</td>\n",
       "      <td>12559</td>\n",
       "      <td>2734</td>\n",
       "      <td>3720</td>\n",
       "      <td>1499</td>\n",
       "      <td>4631</td>\n",
       "    </tr>\n",
       "    <tr>\n",
       "      <th>3</th>\n",
       "      <td>United States</td>\n",
       "      <td>2017</td>\n",
       "      <td>1</td>\n",
       "      <td>262832</td>\n",
       "      <td>241918</td>\n",
       "      <td>4089</td>\n",
       "      <td>52120</td>\n",
       "      <td>7907</td>\n",
       "      <td>12018</td>\n",
       "      <td>6925</td>\n",
       "      <td>...</td>\n",
       "      <td>4083</td>\n",
       "      <td>4818</td>\n",
       "      <td>2769</td>\n",
       "      <td>61650</td>\n",
       "      <td>13595</td>\n",
       "      <td>14520</td>\n",
       "      <td>3034</td>\n",
       "      <td>3709</td>\n",
       "      <td>1726</td>\n",
       "      <td>6233</td>\n",
       "    </tr>\n",
       "    <tr>\n",
       "      <th>4</th>\n",
       "      <td>United States</td>\n",
       "      <td>2018</td>\n",
       "      <td>1</td>\n",
       "      <td>286744</td>\n",
       "      <td>265418</td>\n",
       "      <td>4502</td>\n",
       "      <td>52876</td>\n",
       "      <td>8674</td>\n",
       "      <td>13410</td>\n",
       "      <td>12164</td>\n",
       "      <td>...</td>\n",
       "      <td>4603</td>\n",
       "      <td>5346</td>\n",
       "      <td>3138</td>\n",
       "      <td>67024</td>\n",
       "      <td>14653</td>\n",
       "      <td>14748</td>\n",
       "      <td>3010</td>\n",
       "      <td>3966</td>\n",
       "      <td>1674</td>\n",
       "      <td>5659</td>\n",
       "    </tr>\n",
       "    <tr>\n",
       "      <th>5</th>\n",
       "      <td>United States</td>\n",
       "      <td>2019</td>\n",
       "      <td>1</td>\n",
       "      <td>257649</td>\n",
       "      <td>237219</td>\n",
       "      <td>3580</td>\n",
       "      <td>52087</td>\n",
       "      <td>8218</td>\n",
       "      <td>10961</td>\n",
       "      <td>5720</td>\n",
       "      <td>...</td>\n",
       "      <td>4116</td>\n",
       "      <td>4740</td>\n",
       "      <td>2738</td>\n",
       "      <td>60675</td>\n",
       "      <td>13447</td>\n",
       "      <td>13988</td>\n",
       "      <td>2948</td>\n",
       "      <td>3833</td>\n",
       "      <td>1574</td>\n",
       "      <td>5519</td>\n",
       "    </tr>\n",
       "    <tr>\n",
       "      <th>6</th>\n",
       "      <td>United States</td>\n",
       "      <td>2014</td>\n",
       "      <td>2</td>\n",
       "      <td>211980</td>\n",
       "      <td>197001</td>\n",
       "      <td>3214</td>\n",
       "      <td>45558</td>\n",
       "      <td>6443</td>\n",
       "      <td>7315</td>\n",
       "      <td>5561</td>\n",
       "      <td>...</td>\n",
       "      <td>2873</td>\n",
       "      <td>4064</td>\n",
       "      <td>2532</td>\n",
       "      <td>50435</td>\n",
       "      <td>10780</td>\n",
       "      <td>10286</td>\n",
       "      <td>2248</td>\n",
       "      <td>3091</td>\n",
       "      <td>1050</td>\n",
       "      <td>3895</td>\n",
       "    </tr>\n",
       "    <tr>\n",
       "      <th>7</th>\n",
       "      <td>United States</td>\n",
       "      <td>2015</td>\n",
       "      <td>2</td>\n",
       "      <td>227047</td>\n",
       "      <td>211028</td>\n",
       "      <td>3559</td>\n",
       "      <td>46226</td>\n",
       "      <td>6809</td>\n",
       "      <td>9477</td>\n",
       "      <td>6402</td>\n",
       "      <td>...</td>\n",
       "      <td>3245</td>\n",
       "      <td>4344</td>\n",
       "      <td>2578</td>\n",
       "      <td>54374</td>\n",
       "      <td>11679</td>\n",
       "      <td>11040</td>\n",
       "      <td>2350</td>\n",
       "      <td>3215</td>\n",
       "      <td>1124</td>\n",
       "      <td>4087</td>\n",
       "    </tr>\n",
       "    <tr>\n",
       "      <th>8</th>\n",
       "      <td>United States</td>\n",
       "      <td>2016</td>\n",
       "      <td>2</td>\n",
       "      <td>230021</td>\n",
       "      <td>212140</td>\n",
       "      <td>3459</td>\n",
       "      <td>48258</td>\n",
       "      <td>6851</td>\n",
       "      <td>9729</td>\n",
       "      <td>5162</td>\n",
       "      <td>...</td>\n",
       "      <td>3266</td>\n",
       "      <td>4307</td>\n",
       "      <td>2553</td>\n",
       "      <td>54652</td>\n",
       "      <td>11823</td>\n",
       "      <td>12442</td>\n",
       "      <td>2820</td>\n",
       "      <td>3445</td>\n",
       "      <td>1266</td>\n",
       "      <td>5022</td>\n",
       "    </tr>\n",
       "    <tr>\n",
       "      <th>9</th>\n",
       "      <td>United States</td>\n",
       "      <td>2017</td>\n",
       "      <td>2</td>\n",
       "      <td>233819</td>\n",
       "      <td>215160</td>\n",
       "      <td>3511</td>\n",
       "      <td>46531</td>\n",
       "      <td>7013</td>\n",
       "      <td>10309</td>\n",
       "      <td>6657</td>\n",
       "      <td>...</td>\n",
       "      <td>3581</td>\n",
       "      <td>4317</td>\n",
       "      <td>2595</td>\n",
       "      <td>54944</td>\n",
       "      <td>11975</td>\n",
       "      <td>12994</td>\n",
       "      <td>2748</td>\n",
       "      <td>3381</td>\n",
       "      <td>1428</td>\n",
       "      <td>5619</td>\n",
       "    </tr>\n",
       "    <tr>\n",
       "      <th>10</th>\n",
       "      <td>United States</td>\n",
       "      <td>2018</td>\n",
       "      <td>2</td>\n",
       "      <td>236998</td>\n",
       "      <td>218466</td>\n",
       "      <td>3660</td>\n",
       "      <td>46447</td>\n",
       "      <td>7028</td>\n",
       "      <td>10623</td>\n",
       "      <td>8554</td>\n",
       "      <td>...</td>\n",
       "      <td>3879</td>\n",
       "      <td>4398</td>\n",
       "      <td>2560</td>\n",
       "      <td>54673</td>\n",
       "      <td>12176</td>\n",
       "      <td>12686</td>\n",
       "      <td>2734</td>\n",
       "      <td>3596</td>\n",
       "      <td>1376</td>\n",
       "      <td>5244</td>\n",
       "    </tr>\n",
       "    <tr>\n",
       "      <th>11</th>\n",
       "      <td>United States</td>\n",
       "      <td>2019</td>\n",
       "      <td>2</td>\n",
       "      <td>232821</td>\n",
       "      <td>214074</td>\n",
       "      <td>3257</td>\n",
       "      <td>46739</td>\n",
       "      <td>7485</td>\n",
       "      <td>10098</td>\n",
       "      <td>5551</td>\n",
       "      <td>...</td>\n",
       "      <td>3641</td>\n",
       "      <td>4270</td>\n",
       "      <td>2451</td>\n",
       "      <td>54835</td>\n",
       "      <td>12125</td>\n",
       "      <td>12892</td>\n",
       "      <td>2535</td>\n",
       "      <td>3561</td>\n",
       "      <td>1356</td>\n",
       "      <td>5180</td>\n",
       "    </tr>\n",
       "  </tbody>\n",
       "</table>\n",
       "<p>12 rows × 21 columns</p>\n",
       "</div>"
      ],
      "text/plain": [
       "   Jurisdiction of Occurrence  Year  Month  All Cause  Natural Cause  \\\n",
       "0               United States  2014      1     243298         226621   \n",
       "1               United States  2015      1     265355         247269   \n",
       "2               United States  2016      1     245823         227341   \n",
       "3               United States  2017      1     262832         241918   \n",
       "4               United States  2018      1     286744         265418   \n",
       "5               United States  2019      1     257649         237219   \n",
       "6               United States  2014      2     211980         197001   \n",
       "7               United States  2015      2     227047         211028   \n",
       "8               United States  2016      2     230021         212140   \n",
       "9               United States  2017      2     233819         215160   \n",
       "10              United States  2018      2     236998         218466   \n",
       "11              United States  2019      2     232821         214074   \n",
       "\n",
       "    Septicemia  Malignant Neoplasms  Diabetes Mellitus  Alzheimer Disease  \\\n",
       "0         3944                51101               7344               8305   \n",
       "1         4194                52346               8053              11638   \n",
       "2         3846                51863               7392              10612   \n",
       "3         4089                52120               7907              12018   \n",
       "4         4502                52876               8674              13410   \n",
       "5         3580                52087               8218              10961   \n",
       "6         3214                45558               6443               7315   \n",
       "7         3559                46226               6809               9477   \n",
       "8         3459                48258               6851               9729   \n",
       "9         3511                46531               7013              10309   \n",
       "10        3660                46447               7028              10623   \n",
       "11        3257                46739               7485              10098   \n",
       "\n",
       "    Influenza and Pneumonia  ...  Other Diseases of Respiratory System  \\\n",
       "0                      7929  ...                                  3466   \n",
       "1                     10005  ...                                  3797   \n",
       "2                      5295  ...                                  3705   \n",
       "3                      6925  ...                                  4083   \n",
       "4                     12164  ...                                  4603   \n",
       "5                      5720  ...                                  4116   \n",
       "6                      5561  ...                                  2873   \n",
       "7                      6402  ...                                  3245   \n",
       "8                      5162  ...                                  3266   \n",
       "9                      6657  ...                                  3581   \n",
       "10                     8554  ...                                  3879   \n",
       "11                     5551  ...                                  3641   \n",
       "\n",
       "    Nephritis, Nephrotic Syndrome, and Nephrosis  \\\n",
       "0                                           4600   \n",
       "1                                           4979   \n",
       "2                                           4645   \n",
       "3                                           4818   \n",
       "4                                           5346   \n",
       "5                                           4740   \n",
       "6                                           4064   \n",
       "7                                           4344   \n",
       "8                                           4307   \n",
       "9                                           4317   \n",
       "10                                          4398   \n",
       "11                                          4270   \n",
       "\n",
       "    Symptoms, Signs, and Abnormal Clinical and Laboratory Findings, Not Elsewhere Classified  \\\n",
       "0                                                2815                                          \n",
       "1                                                3005                                          \n",
       "2                                                2755                                          \n",
       "3                                                2769                                          \n",
       "4                                                3138                                          \n",
       "5                                                2738                                          \n",
       "6                                                2532                                          \n",
       "7                                                2578                                          \n",
       "8                                                2553                                          \n",
       "9                                                2595                                          \n",
       "10                                               2560                                          \n",
       "11                                               2451                                          \n",
       "\n",
       "    Diseases of Heart  Cerebrovascular Diseases  \\\n",
       "0               58229                     12074   \n",
       "1               63190                     13576   \n",
       "2               58049                     12968   \n",
       "3               61650                     13595   \n",
       "4               67024                     14653   \n",
       "5               60675                     13447   \n",
       "6               50435                     10780   \n",
       "7               54374                     11679   \n",
       "8               54652                     11823   \n",
       "9               54944                     11975   \n",
       "10              54673                     12176   \n",
       "11              54835                     12125   \n",
       "\n",
       "    Accidents (Unintentional Injuries)  Motor Vehicle Accidents  \\\n",
       "0                                11461                     2572   \n",
       "1                                12311                     2754   \n",
       "2                                12559                     2734   \n",
       "3                                14520                     3034   \n",
       "4                                14748                     3010   \n",
       "5                                13988                     2948   \n",
       "6                                10286                     2248   \n",
       "7                                11040                     2350   \n",
       "8                                12442                     2820   \n",
       "9                                12994                     2748   \n",
       "10                               12686                     2734   \n",
       "11                               12892                     2535   \n",
       "\n",
       "    Intentional Self-Harm (Suicide)  Assault (Homicide)  Drug Overdose  \n",
       "0                              3320                1213           4026  \n",
       "1                              3618                1437           4354  \n",
       "2                              3720                1499           4631  \n",
       "3                              3709                1726           6233  \n",
       "4                              3966                1674           5659  \n",
       "5                              3833                1574           5519  \n",
       "6                              3091                1050           3895  \n",
       "7                              3215                1124           4087  \n",
       "8                              3445                1266           5022  \n",
       "9                              3381                1428           5619  \n",
       "10                             3596                1376           5244  \n",
       "11                             3561                1356           5180  \n",
       "\n",
       "[12 rows x 21 columns]"
      ]
     },
     "execution_count": 6,
     "metadata": {},
     "output_type": "execute_result"
    }
   ],
   "source": [
    "death_14_19.head(12)"
   ]
  },
  {
   "cell_type": "markdown",
   "id": "84839b01",
   "metadata": {},
   "source": [
    "As we can see, the causes run along the columns, and the time periods run along the rows."
   ]
  },
  {
   "cell_type": "markdown",
   "id": "8c762bb4",
   "metadata": {},
   "source": [
    "## Suicide"
   ]
  },
  {
   "cell_type": "markdown",
   "id": "4c5e9195",
   "metadata": {},
   "source": [
    "The first objective (and foremost reason I am doing this project) is to figure out how the prevalence of suicides has changed along with the pandemic. Mental health is very important to me, and one thing that the pandemic exacerbated more than most others is the mental health struggles plaguing the younger generation today. As such, there is a level of curiosity in determining whether those struggles corresponded with higher levels of suicide, particularly in comparison to other causes of death.\n",
    "\n",
    "Below is a block of code that will create a list of the suicide counts for each month of 2014."
   ]
  },
  {
   "cell_type": "code",
   "execution_count": 37,
   "id": "c9266883",
   "metadata": {},
   "outputs": [
    {
     "name": "stdout",
     "output_type": "stream",
     "text": [
      "[3320, 3091, 3408, 3606, 3589, 3552, 3534, 4027, 4034, 3791, 3480, 3394]\n"
     ]
    }
   ],
   "source": [
    "death_14 = death_14_19[death_14_19['Year'] == 2014] # New table for just 2014\n",
    "death_14.reset_index() # Resetting the indices for the created table, allowing us to iterate\n",
    "suicide_14 = [] # Creating empty list\n",
    "for index, row in death_14.iterrows():\n",
    "    suicide_14.append(row[\"Intentional Self-Harm (Suicide)\"]) # For loop that adds each suicide count value to our list in order\n",
    "print(suicide_14) # Prints list"
   ]
  },
  {
   "cell_type": "markdown",
   "id": "751da7c8",
   "metadata": {},
   "source": [
    "Using this framework, I will do the same thing for every year up through 2023. This will allow us to have all of our suicide values in one place."
   ]
  },
  {
   "cell_type": "code",
   "execution_count": 38,
   "id": "8c02614c",
   "metadata": {},
   "outputs": [],
   "source": [
    "death_15 = death_14_19[death_14_19['Year'] == 2015]\n",
    "death_15.reset_index()\n",
    "suicide_15 = []\n",
    "for index, row in death_15.iterrows():\n",
    "    suicide_15.append(row[\"Intentional Self-Harm (Suicide)\"])"
   ]
  },
  {
   "cell_type": "code",
   "execution_count": 39,
   "id": "74da51ec",
   "metadata": {},
   "outputs": [],
   "source": [
    "death_16 = death_14_19[death_14_19['Year'] == 2016]\n",
    "death_16.reset_index()\n",
    "suicide_16 = []\n",
    "for index, row in death_16.iterrows():\n",
    "    suicide_16.append(row[\"Intentional Self-Harm (Suicide)\"])"
   ]
  },
  {
   "cell_type": "code",
   "execution_count": 40,
   "id": "c132783e",
   "metadata": {},
   "outputs": [],
   "source": [
    "death_17 = death_14_19[death_14_19['Year'] == 2017]\n",
    "death_17.reset_index()\n",
    "suicide_17 = []\n",
    "for index, row in death_17.iterrows():\n",
    "    suicide_17.append(row[\"Intentional Self-Harm (Suicide)\"])"
   ]
  },
  {
   "cell_type": "code",
   "execution_count": 41,
   "id": "d7ace6ac",
   "metadata": {},
   "outputs": [],
   "source": [
    "death_18 = death_14_19[death_14_19['Year'] == 2018]\n",
    "death_18.reset_index()\n",
    "suicide_18 = []\n",
    "for index, row in death_18.iterrows():\n",
    "    suicide_18.append(row[\"Intentional Self-Harm (Suicide)\"])"
   ]
  },
  {
   "cell_type": "code",
   "execution_count": 42,
   "id": "d1dd5243",
   "metadata": {},
   "outputs": [],
   "source": [
    "death_19 = death_14_19[death_14_19['Year'] == 2019]\n",
    "death_19.reset_index()\n",
    "suicide_19 = []\n",
    "for index, row in death_19.iterrows():\n",
    "    suicide_19.append(row[\"Intentional Self-Harm (Suicide)\"])"
   ]
  },
  {
   "cell_type": "markdown",
   "id": "5740b374",
   "metadata": {},
   "source": [
    "Note: For 2020-2023 I will have to use the respective tables that they're in, rather than the one from 2014-2019."
   ]
  },
  {
   "cell_type": "code",
   "execution_count": 43,
   "id": "5cc4c5fb",
   "metadata": {},
   "outputs": [],
   "source": [
    "death_20 = death_20_21[death_20_21['Year'] == 2020]\n",
    "death_20.reset_index()\n",
    "suicide_20 = []\n",
    "for index, row in death_20.iterrows():\n",
    "    suicide_20.append(row[\"Intentional Self-Harm (Suicide)\"])"
   ]
  },
  {
   "cell_type": "code",
   "execution_count": 44,
   "id": "aa594f6d",
   "metadata": {},
   "outputs": [],
   "source": [
    "death_21 = death_20_21[death_20_21['Year'] == 2021]\n",
    "death_21.reset_index()\n",
    "suicide_21 = []\n",
    "for index, row in death_21.iterrows():\n",
    "    suicide_21.append(row[\"Intentional Self-Harm (Suicide)\"])"
   ]
  },
  {
   "cell_type": "code",
   "execution_count": 45,
   "id": "cf34a123",
   "metadata": {},
   "outputs": [],
   "source": [
    "death_22 = death_22_23[death_22_23['Year'] == 2022]\n",
    "death_22.reset_index()\n",
    "suicide_22 = []\n",
    "for index, row in death_22.iterrows():\n",
    "    suicide_22.append(row[\"Intentional Self-Harm (Suicide)\"])"
   ]
  },
  {
   "cell_type": "code",
   "execution_count": 46,
   "id": "15c134b6",
   "metadata": {},
   "outputs": [
    {
     "name": "stdout",
     "output_type": "stream",
     "text": [
      "[4239.0, 3733.0, nan, nan, nan, nan, nan, nan, nan]\n"
     ]
    }
   ],
   "source": [
    "death_23 = death_22_23[death_22_23['Year'] == 2023]\n",
    "death_23.reset_index()\n",
    "suicide_23 = []\n",
    "for index, row in death_23.iterrows():\n",
    "    suicide_23.append(row[\"Intentional Self-Harm (Suicide)\"])\n",
    "print(suicide_23)"
   ]
  },
  {
   "cell_type": "markdown",
   "id": "32a3a35f",
   "metadata": {},
   "source": [
    "Note that suicide data for 2023 is restricted to only January and February due to the fact that the dataset stopped getting updated. This means our data for 'Post-COVID' will be our smallest sample size."
   ]
  },
  {
   "cell_type": "markdown",
   "id": "fd59ae63",
   "metadata": {},
   "source": [
    "## First Chart: Suicide Numbers Over Time"
   ]
  },
  {
   "cell_type": "markdown",
   "id": "90915f73",
   "metadata": {},
   "source": [
    "This project is about much more than this, but a nice starting point for us to branch off of is simply graphing our suicide counts by year. We could do average or sum - in this case I have chosen to use sums, but averages would work well too."
   ]
  },
  {
   "cell_type": "code",
   "execution_count": 51,
   "id": "8b6262ac",
   "metadata": {},
   "outputs": [
    {
     "name": "stdout",
     "output_type": "stream",
     "text": [
      "[42826, 44193]\n"
     ]
    }
   ],
   "source": [
    "s_tot_14 = sum(suicide_14) # Summing all values in suicide_14\n",
    "s_tot_15 = sum(suicide_15)\n",
    "s_tot_16 = sum(suicide_16)\n",
    "s_tot_17 = sum(suicide_17)\n",
    "s_tot_18 = sum(suicide_18)\n",
    "s_tot_19 = sum(suicide_19)\n",
    "s_tot_20 = sum(suicide_20)\n",
    "s_tot_21 = sum(suicide_21)\n",
    "s_tot_22 = sum(suicide_22)"
   ]
  },
  {
   "cell_type": "markdown",
   "id": "ecee1cb4",
   "metadata": {},
   "source": [
    "We are not aggregating 2023 because, again, we only have data for January and February. So unfortunately we can only go up to 2022 for this graph."
   ]
  },
  {
   "cell_type": "code",
   "execution_count": 57,
   "id": "9664e177",
   "metadata": {},
   "outputs": [
    {
     "data": {
      "text/plain": [
       "Text(0, 0.5, 'Suicide Total')"
      ]
     },
     "execution_count": 57,
     "metadata": {},
     "output_type": "execute_result"
    },
    {
     "data": {
      "image/png": "[encoded data removed]",
      "text/plain": [
       "<Figure size 640x480 with 1 Axes>"
      ]
     },
     "metadata": {},
     "output_type": "display_data"
    }
   ],
   "source": [
    "s_tot_all = [s_tot_14, s_tot_15, s_tot_16, s_tot_17, s_tot_18, s_tot_19, s_tot_20, s_tot_21, s_tot_22] #List of combined suicide counts for each year\n",
    "years = [2014, 2015, 2016, 2017, 2018, 2019, 2020, 2021, 2022]\n",
    "plt.plot(years, s_tot_all)\n",
    "plt.title(\"Suicide Counts 2014-2022\")\n",
    "plt.xlabel(\"Year\")\n",
    "plt.ylabel(\"Suicide Total\")"
   ]
  },
  {
   "cell_type": "markdown",
   "id": "e53a9092",
   "metadata": {},
   "source": [
    "There are some notable things I would like to dive into on a month-to-month basis, including what real-life events corresponded with the meteoric rise in suicides in 2017 and 2018, as well as the dip of 2020, which is likely due to COVID-19 being responsible for an outsized portion of deaths compared to other years. "
   ]
  },
  {
   "cell_type": "code",
   "execution_count": 67,
   "id": "57ab8062",
   "metadata": {},
   "outputs": [
    {
     "data": {
      "text/plain": [
       "Text(0, 0.5, 'Suicides')"
      ]
     },
     "execution_count": 67,
     "metadata": {},
     "output_type": "execute_result"
    },
    {
     "data": {
      "image/png": "[encoded data removed]",
      "text/plain": [
       "<Figure size 2000x700 with 2 Axes>"
      ]
     },
     "metadata": {},
     "output_type": "display_data"
    }
   ],
   "source": [
    "months = [\"Jan.\", \"Feb.\", \"March\", \"April\", \"May\", \"June\", \"July\", \"Aug.\", \"Sept.\", \"Oct.\", \"Nov.\", \"Dec.\"]\n",
    "fig, axs = plt.subplots(1, 2, figsize=(20,7))\n",
    "axs[0].plot(months, suicide_17)\n",
    "axs[0].set_xlabel('Month')\n",
    "axs[0].set_ylabel('Suicides')\n",
    "\n",
    "axs[1].plot(months, suicide_18)\n",
    "axs[1].set_xlabel('Month')\n",
    "axs[1].set_ylabel('Suicides')"
   ]
  },
  {
   "cell_type": "markdown",
   "id": "b238c495",
   "metadata": {},
   "source": [
    "These two months vizualize a stark trend that is completely unexpected to me - for both years, suicides peaked in the summer."
   ]
  },
  {
   "cell_type": "code",
   "execution_count": null,
   "id": "0568864d",
   "metadata": {},
   "outputs": [],
   "source": []
  }
 ],
 "metadata": {
  "kernelspec": {
   "display_name": "Python 3 (ipykernel)",
   "language": "python",
   "name": "python3"
  },
  "language_info": {
   "codemirror_mode": {
    "name": "ipython",
    "version": 3
   },
   "file_extension": ".py",
   "mimetype": "text/x-python",
   "name": "python",
   "nbconvert_exporter": "python",
   "pygments_lexer": "ipython3",
   "version": "3.10.9"
  }
 },
 "nbformat": 4,
 "nbformat_minor": 5
}
